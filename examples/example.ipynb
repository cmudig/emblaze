{
 "cells": [
  {
   "cell_type": "code",
   "execution_count": null,
   "source": [
    "import emblaze\n",
    "from emblaze.utils import Field, ProjectionTechnique\n",
    "import numpy as np\n",
    "import pandas as pd"
   ],
   "outputs": [],
   "metadata": {}
  },
  {
   "cell_type": "code",
   "execution_count": null,
   "source": [
    "def load_bnhp():\n",
    "    df = pd.read_csv(\"housing.csv\", header=None, sep='\\s+')\n",
    "    df.columns = [\"crim\", \"zn\", \"indus\", \"chas\", \"nox\", \"rm\", \"age\", \"dis\", \"rad\", \"tax\", \"ptratio\", \"black\", \"lstat\", \"medv\"]\n",
    "\n",
    "    all_values = df[df[\"medv\"] < 50].values\n",
    "    means = np.mean(all_values, axis=0)\n",
    "    stds = np.std(all_values, axis=0)\n",
    "    means[df.columns.values.tolist().index(\"chas\")] = 0\n",
    "    stds[df.columns.values.tolist().index(\"chas\")] = 1\n",
    "\n",
    "    normalized = (all_values - means) / stds\n",
    "\n",
    "    x_train = normalized[:,:-1]\n",
    "    y_train = normalized[:,-1]\n",
    "    \n",
    "    return x_train, y_train > 0.0\n",
    "\n",
    "def load_mnist(size=2000):\n",
    "    \"\"\"Loads only the test data\"\"\"\n",
    "    from tensorflow.keras.datasets import mnist\n",
    "    _, (x_test, y_test) = mnist.load_data()\n",
    "    indexes = np.random.choice(x_test.shape[0], size=size, replace=False)\n",
    "    return x_test[indexes].reshape(-1, 28*28), y_test[indexes]"
   ],
   "outputs": [],
   "metadata": {}
  },
  {
   "cell_type": "code",
   "execution_count": null,
   "source": [
    "# Load data\n",
    "\n",
    "X, Y = load_mnist()"
   ],
   "outputs": [],
   "metadata": {}
  },
  {
   "cell_type": "code",
   "execution_count": null,
   "source": [
    "# Generate the projections\n",
    "\n",
    "emb = emblaze.Embedding({Field.POSITION: X, Field.COLOR: Y})\n",
    "emb.compute_neighbors(metric='jaccard')\n",
    "\n",
    "variants = emblaze.EmbeddingSet([\n",
    "    emb.project(method=ProjectionTechnique.UMAP) for _ in range(5)\n",
    "])\n",
    "\n",
    "thumbnails = emblaze.ImageThumbnails(X.reshape(-1, 28, 28, 1))"
   ],
   "outputs": [],
   "metadata": {}
  },
  {
   "cell_type": "code",
   "execution_count": null,
   "source": [
    "# Display the widget\n",
    "\n",
    "w = emblaze.Viewer(embeddings=variants, thumbnails=thumbnails)\n",
    "w"
   ],
   "outputs": [],
   "metadata": {
    "scrolled": false
   }
  },
  {
   "cell_type": "markdown",
   "source": [
    "## Selection\n",
    "\n",
    "We can read and write to the current selection in the interface."
   ],
   "metadata": {}
  },
  {
   "cell_type": "code",
   "execution_count": null,
   "source": [
    "w.selectedIDs"
   ],
   "outputs": [],
   "metadata": {}
  },
  {
   "cell_type": "code",
   "execution_count": null,
   "source": [
    "w.selectedIDs = list(range(100, 105)) # Choose ID numbers to select"
   ],
   "outputs": [],
   "metadata": {}
  },
  {
   "cell_type": "markdown",
   "source": [
    "## Alignment\n",
    "\n",
    "We can also choose points to align all visualizations to. Try selecting a group of points by Cmd/Ctrl+click and dragging, then clicking Align. Then when you move to a different frame in the UI above, the points you selected will attempt to stay constant.\n",
    "\n",
    "The below code can be used to align to a group of points that you select programmatically. The `align_to` function implemented below automatically adds the set of nearest neighbors to the alignment set, which can lead to a better alignment."
   ],
   "metadata": {}
  },
  {
   "cell_type": "code",
   "execution_count": null,
   "source": [
    "def align_to(ids, include_vicinity=False):\n",
    "    if not ids:\n",
    "        w.align_to_points(None, [])\n",
    "    else:\n",
    "        ids = list(ids)\n",
    "        vicinity = set()\n",
    "        for neighbors in w.frames[0].mat(\"highlight\", ids=ids):\n",
    "            vicinity |= set(neighbors.tolist())\n",
    "        w.align_to_points(ids, list(vicinity))\n",
    "\n",
    "align_to(w.selectedIDs, include_vicinity=True)"
   ],
   "outputs": [],
   "metadata": {}
  },
  {
   "cell_type": "code",
   "execution_count": null,
   "source": [
    "# Reset alignment\n",
    "align_to(None)"
   ],
   "outputs": [],
   "metadata": {}
  },
  {
   "cell_type": "code",
   "execution_count": null,
   "source": [],
   "outputs": [],
   "metadata": {}
  }
 ],
 "metadata": {
  "kernelspec": {
   "name": "python3",
   "display_name": "Python 3.7.10 64-bit ('widget-3-7': conda)"
  },
  "language_info": {
   "codemirror_mode": {
    "name": "ipython",
    "version": 3
   },
   "file_extension": ".py",
   "mimetype": "text/x-python",
   "name": "python",
   "nbconvert_exporter": "python",
   "pygments_lexer": "ipython3",
   "version": "3.7.10"
  },
  "interpreter": {
   "hash": "5a2cdb05e2d67f57024efb1ad779ce8b5ae06b38215e5b1df00b5d724078e628"
  }
 },
 "nbformat": 4,
 "nbformat_minor": 5
}