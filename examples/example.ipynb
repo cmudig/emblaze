{
 "cells": [
  {
   "cell_type": "code",
   "execution_count": null,
   "id": "located-colors",
   "metadata": {},
   "outputs": [],
   "source": [
    "import drviewer as dr\n",
    "import json\n",
    "import numpy as np\n",
    "import pandas as pd"
   ]
  },
  {
   "cell_type": "code",
   "execution_count": null,
   "id": "chronic-terry",
   "metadata": {},
   "outputs": [],
   "source": [
    "def load_bnhp():\n",
    "    df = pd.read_csv(\"housing.csv\", header=None, sep='\\s+')\n",
    "    df.columns = [\"crim\", \"zn\", \"indus\", \"chas\", \"nox\", \"rm\", \"age\", \"dis\", \"rad\", \"tax\", \"ptratio\", \"black\", \"lstat\", \"medv\"]\n",
    "\n",
    "    all_values = df[df[\"medv\"] < 50].values\n",
    "    means = np.mean(all_values, axis=0)\n",
    "    stds = np.std(all_values, axis=0)\n",
    "    means[df.columns.values.tolist().index(\"chas\")] = 0\n",
    "    stds[df.columns.values.tolist().index(\"chas\")] = 1\n",
    "\n",
    "    normalized = (all_values - means) / stds\n",
    "\n",
    "    x_train = normalized[:,:-1]\n",
    "    y_train = normalized[:,-1]\n",
    "    \n",
    "    return x_train, y_train > 0.0\n",
    "\n",
    "def load_mnist(size=2000):\n",
    "    \"\"\"Loads only the test data\"\"\"\n",
    "    from tensorflow.keras.datasets import mnist\n",
    "    _, (x_test, y_test) = mnist.load_data()\n",
    "    indexes = np.random.choice(x_test.shape[0], size=size, replace=False)\n",
    "    return x_test[indexes].reshape(-1, 28*28), y_test[indexes]"
   ]
  },
  {
   "cell_type": "code",
   "execution_count": null,
   "id": "pressed-georgia",
   "metadata": {},
   "outputs": [],
   "source": [
    "# Load data\n",
    "\n",
    "X, Y = load_mnist()"
   ]
  },
  {
   "cell_type": "code",
   "execution_count": null,
   "id": "4e629e2e",
   "metadata": {},
   "outputs": [],
   "source": [
    "# Generate the projections\n",
    "\n",
    "emb = dr.Embedding({dr.Field.POSITION: X, dr.Field.COLOR: Y})\n",
    "emb.compute_neighbors(metric='jaccard')\n",
    "\n",
    "variants = dr.EmbeddingSet([\n",
    "    emb.project(method=dr.ProjectionTechnique.UMAP) for _ in range(5)\n",
    "])\n",
    "\n",
    "thumbnails = dr.ImageThumbnails(X.reshape(-1, 28, 28, 1))"
   ]
  },
  {
   "cell_type": "code",
   "execution_count": null,
   "id": "hollywood-testimony",
   "metadata": {
    "scrolled": false
   },
   "outputs": [],
   "source": [
    "# Display the widget\n",
    "\n",
    "w = drviewer.DRViewer(embeddings=variants, thumbnails=thumbnails)\n",
    "w"
   ]
  },
  {
   "cell_type": "markdown",
   "id": "cc026373",
   "metadata": {},
   "source": [
    "## Selection\n",
    "\n",
    "We can read and write to the current selection in the interface."
   ]
  },
  {
   "cell_type": "code",
   "execution_count": null,
   "id": "behavioral-egyptian",
   "metadata": {},
   "outputs": [],
   "source": [
    "w.selectedIDs"
   ]
  },
  {
   "cell_type": "code",
   "execution_count": null,
   "id": "e035b86d",
   "metadata": {},
   "outputs": [],
   "source": [
    "w.selectedIDs = list(range(100, 105)) # Choose ID numbers to select"
   ]
  },
  {
   "cell_type": "markdown",
   "id": "dc7a1891",
   "metadata": {},
   "source": [
    "## Alignment\n",
    "\n",
    "We can also choose points to align all visualizations to. This isn't implemented in the UI yet, but we can do it programmatically.\n",
    "\n",
    "Try selecting a group of points by Shift+click and dragging, then running the below cell to align to them. Then when you move to a different frame in the UI above, the points you selected will attempt to stay constant."
   ]
  },
  {
   "cell_type": "code",
   "execution_count": null,
   "id": "aa7fdd9a",
   "metadata": {},
   "outputs": [],
   "source": [
    "def align_to(ids, include_vicinity=False):\n",
    "    if not ids:\n",
    "        w.align_to_points(None, [])\n",
    "    else:\n",
    "        ids = list(ids)\n",
    "        vicinity = set()\n",
    "        for neighbors in w.frames[0].mat(\"highlight\", ids=ids):\n",
    "            vicinity |= set(neighbors.tolist())\n",
    "        w.align_to_points(ids, list(vicinity))\n",
    "\n",
    "align_to(w.selectedIDs, include_vicinity=True)"
   ]
  },
  {
   "cell_type": "code",
   "execution_count": null,
   "id": "8f235105",
   "metadata": {},
   "outputs": [],
   "source": [
    "# Reset alignment\n",
    "align_to(None)"
   ]
  },
  {
   "cell_type": "code",
   "execution_count": null,
   "id": "f4101a9a",
   "metadata": {},
   "outputs": [],
   "source": []
  }
 ],
 "metadata": {
  "kernelspec": {
   "display_name": "Python 3",
   "language": "python",
   "name": "python3"
  },
  "language_info": {
   "codemirror_mode": {
    "name": "ipython",
    "version": 3
   },
   "file_extension": ".py",
   "mimetype": "text/x-python",
   "name": "python",
   "nbconvert_exporter": "python",
   "pygments_lexer": "ipython3",
   "version": "3.7.10"
  }
 },
 "nbformat": 4,
 "nbformat_minor": 5
}
