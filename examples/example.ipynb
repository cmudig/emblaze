{
 "cells": [
  {
   "cell_type": "code",
   "execution_count": null,
   "id": "4446e836",
   "metadata": {},
   "outputs": [],
   "source": [
    "import emblaze\n",
    "from emblaze.utils import Field, ProjectionTechnique\n",
    "import numpy as np\n",
    "import pandas as pd"
   ]
  },
  {
   "cell_type": "code",
   "execution_count": null,
   "id": "bfbc0c51",
   "metadata": {},
   "outputs": [],
   "source": [
    "def load_bnhp():\n",
    "    df = pd.read_csv(\"housing.csv\", header=None, sep='\\s+')\n",
    "    df.columns = [\"crim\", \"zn\", \"indus\", \"chas\", \"nox\", \"rm\", \"age\", \"dis\", \"rad\", \"tax\", \"ptratio\", \"black\", \"lstat\", \"medv\"]\n",
    "\n",
    "    all_values = df[df[\"medv\"] < 50].values\n",
    "    means = np.mean(all_values, axis=0)\n",
    "    stds = np.std(all_values, axis=0)\n",
    "    means[df.columns.values.tolist().index(\"chas\")] = 0\n",
    "    stds[df.columns.values.tolist().index(\"chas\")] = 1\n",
    "\n",
    "    normalized = (all_values - means) / stds\n",
    "\n",
    "    x_train = normalized[:,:-1]\n",
    "    y_train = normalized[:,-1]\n",
    "    \n",
    "    return x_train, y_train > 0.0\n",
    "\n",
    "def load_mnist(size=2000):\n",
    "    \"\"\"Loads only the test data\"\"\"\n",
    "    from tensorflow.keras.datasets import mnist\n",
    "    _, (x_test, y_test) = mnist.load_data()\n",
    "    indexes = np.random.choice(x_test.shape[0], size=size, replace=False)\n",
    "    return x_test[indexes].reshape(-1, 28*28), y_test[indexes]"
   ]
  },
  {
   "cell_type": "code",
   "execution_count": null,
   "id": "2340b43e",
   "metadata": {},
   "outputs": [],
   "source": [
    "# Load data\n",
    "\n",
    "X, Y = load_mnist()"
   ]
  },
  {
   "cell_type": "code",
   "execution_count": null,
   "id": "e6447e60",
   "metadata": {},
   "outputs": [],
   "source": [
    "# Generate the projections - this may take a minute or two\n",
    "\n",
    "emb = emblaze.Embedding({Field.POSITION: X, Field.COLOR: Y})\n",
    "emb.compute_neighbors(metric='jaccard')\n",
    "\n",
    "variants = emblaze.EmbeddingSet([\n",
    "    emb.project(method=ProjectionTechnique.UMAP) for _ in range(5)\n",
    "])\n",
    "\n",
    "thumbnails = emblaze.ImageThumbnails(X.reshape(-1, 28, 28, 1))"
   ]
  },
  {
   "cell_type": "code",
   "execution_count": null,
   "id": "2a9cb607",
   "metadata": {
    "scrolled": false
   },
   "outputs": [],
   "source": [
    "# Display the widget\n",
    "\n",
    "w = emblaze.Viewer(embeddings=variants, thumbnails=thumbnails)\n",
    "w"
   ]
  },
  {
   "cell_type": "markdown",
   "id": "dbd0f46d",
   "metadata": {},
   "source": [
    "## Selection\n",
    "\n",
    "We can read and write to the current selection in the interface."
   ]
  },
  {
   "cell_type": "code",
   "execution_count": null,
   "id": "6364530a",
   "metadata": {},
   "outputs": [],
   "source": [
    "w.selectedIDs"
   ]
  },
  {
   "cell_type": "code",
   "execution_count": null,
   "id": "c88ae6bd",
   "metadata": {},
   "outputs": [],
   "source": [
    "w.selectedIDs = list(range(100, 105)) # Choose ID numbers to select"
   ]
  },
  {
   "cell_type": "markdown",
   "id": "98ef5401",
   "metadata": {},
   "source": [
    "## Alignment\n",
    "\n",
    "We can also choose points to align all visualizations to. Try selecting a group of at least three points by Cmd/Ctrl+click and dragging, then clicking Align. Then when you move to a different frame in the UI above, the points you selected will attempt to stay constant.\n",
    "\n",
    "The below code can be used to align to a group of points that you select programmatically. The `align_to` function implemented below automatically adds the set of nearest neighbors to the alignment set, which can lead to a better alignment."
   ]
  },
  {
   "cell_type": "code",
   "execution_count": null,
   "id": "fc5676af",
   "metadata": {},
   "outputs": [],
   "source": [
    "def align_to(ids, include_vicinity=False, k=10):\n",
    "    if not ids:\n",
    "        w.alignedIDs = []\n",
    "    else:\n",
    "        ids = list(ids)\n",
    "        if include_vicinity:\n",
    "            vicinity = set()\n",
    "            for neighbors in w.embeddings[0].field(\"highlight\", ids=ids):\n",
    "                vicinity |= set(neighbors.tolist()[:k])\n",
    "            w.alignedIDs = list(set(ids) | vicinity)\n",
    "        else:\n",
    "            w.alignedIDs = ids\n",
    "\n",
    "align_to(w.selectedIDs, include_vicinity=True)"
   ]
  },
  {
   "cell_type": "code",
   "execution_count": null,
   "id": "c79af22d",
   "metadata": {},
   "outputs": [],
   "source": [
    "# Reset alignment\n",
    "align_to(None)"
   ]
  },
  {
   "cell_type": "code",
   "execution_count": null,
   "id": "e5e54e31",
   "metadata": {},
   "outputs": [],
   "source": []
  }
 ],
 "metadata": {
  "interpreter": {
   "hash": "5a2cdb05e2d67f57024efb1ad779ce8b5ae06b38215e5b1df00b5d724078e628"
  },
  "kernelspec": {
   "display_name": "Python 3",
   "language": "python",
   "name": "python3"
  },
  "language_info": {
   "codemirror_mode": {
    "name": "ipython",
    "version": 3
   },
   "file_extension": ".py",
   "mimetype": "text/x-python",
   "name": "python",
   "nbconvert_exporter": "python",
   "pygments_lexer": "ipython3",
   "version": "3.7.10"
  }
 },
 "nbformat": 4,
 "nbformat_minor": 5
}
